{
 "cells": [
  {
   "cell_type": "code",
   "execution_count": 1,
   "metadata": {},
   "outputs": [
    {
     "name": "stdout",
     "output_type": "stream",
     "text": [
      "Hello, world!\n"
     ]
    }
   ],
   "source": [
    "# 最简单的python代码示例\n",
    "# 终端打印一句：Hello, World!\n",
    "print('Hello, world!')"
   ]
  },
  {
   "cell_type": "markdown",
   "metadata": {},
   "source": [
    "# Python3 基础\n",
    "\n",
    "## 基础知识\n",
    "\n",
    "- '#'开头表示注释，解释代码\n",
    "- 字符串可以用单引号包裹，也可以用双引号包裹\n",
    "\n",
    "## 基本程序结构\n",
    "\n",
    "条件语句\n",
    "\n",
    "    第一种：满足条件才执行\n",
    "    if {express}:\n",
    "        ...\n",
    "    \n",
    "    第二种：满足条件执行A步骤，不满足条件执行B步骤\n",
    "    if {express}:\n",
    "        ...\n",
    "    else:\n",
    "        ...\n",
    "\n",
    "    第三种：满足条件1执行A步骤，否则满足条件2执行B步骤\n",
    "    if {express}:\n",
    "        ...\n",
    "    elif {express}:\n",
    "        ...\n",
    "    \n",
    "    第四种：满足条件1执行A步骤，否则满足条件2执行B步骤，都不满足执行C步骤\n",
    "    if {express}:\n",
    "        ...\n",
    "    elif {express}:\n",
    "        ...\n",
    "    else:\n",
    "        ..."
   ]
  },
  {
   "cell_type": "code",
   "execution_count": 2,
   "metadata": {},
   "outputs": [
    {
     "name": "stdout",
     "output_type": "stream",
     "text": [
      "way1_if: 条件满足\n",
      "way2_if_else: 条件满足\n",
      "way2_if_else: 不条件满足\n",
      "way3_if_elif: 满足条件1\n",
      "way3_if_elif: 满足条件2\n",
      "way4_if_elif_else: 满足条件1\n",
      "way4_if_elif_else: 满足条件2\n",
      "way4_if_elif_else: 所有条件不满足\n"
     ]
    }
   ],
   "source": [
    "def way1_if(express):\n",
    "    if express:\n",
    "        print('way1_if: 条件满足')\n",
    "\n",
    "def way2_if_else(express):\n",
    "    if express:\n",
    "        print('way2_if_else: 条件满足')\n",
    "    else:\n",
    "        print('way2_if_else: 不条件满足')\n",
    "\n",
    "def way3_if_elif(number):\n",
    "    if number == 1:\n",
    "        print('way3_if_elif: 满足条件1')\n",
    "    elif number == 2:\n",
    "        print('way3_if_elif: 满足条件2')\n",
    "\n",
    "def way4_if_elif_else(number):\n",
    "    if number == 1:\n",
    "        print('way4_if_elif_else: 满足条件1')\n",
    "    elif number == 2:\n",
    "        print('way4_if_elif_else: 满足条件2')\n",
    "    else:\n",
    "        print('way4_if_elif_else: 所有条件不满足')\n",
    "\n",
    "way1_if(True)\n",
    "way1_if(False) # 不打印\n",
    "\n",
    "way2_if_else(True)\n",
    "way2_if_else(False)\n",
    "\n",
    "way3_if_elif(1)\n",
    "way3_if_elif(2)\n",
    "way3_if_elif(3) # 不打印\n",
    "\n",
    "way4_if_elif_else(1)\n",
    "way4_if_elif_else(2)\n",
    "way4_if_elif_else(3)"
   ]
  }
 ],
 "metadata": {
  "kernelspec": {
   "display_name": "Python 3",
   "language": "python",
   "name": "python3"
  },
  "language_info": {
   "codemirror_mode": {
    "name": "ipython",
    "version": 3
   },
   "file_extension": ".py",
   "mimetype": "text/x-python",
   "name": "python",
   "nbconvert_exporter": "python",
   "pygments_lexer": "ipython3",
   "version": "3.8.10"
  },
  "orig_nbformat": 4
 },
 "nbformat": 4,
 "nbformat_minor": 2
}
