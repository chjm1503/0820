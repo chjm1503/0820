{
 "cells": [
  {
   "cell_type": "markdown",
   "metadata": {},
   "source": [
    "## 基本数据结构\n",
    "\n",
    "\n",
    "| 数组 | list | 有序可修改，通过索引进行查找修改 |\n",
    "| 元组 | tuple | 有序，不可修改 |\n",
    "| 集合 | set | 无序，可修改，无重复，无索引 |\n",
    "| 字典 | dict | 一组key-value的聚合 |"
   ]
  },
  {
   "cell_type": "code",
   "execution_count": null,
   "metadata": {},
   "outputs": [],
   "source": [
    "sample_list = [1, 2, 3, 4, 'a']\n",
    "sample_tuple = (1, 2, \"Hello\")\n",
    "sample_set = set(1, 4, 5, 7.9, 'a')\n",
    "sample_dict = {'wake': 7, \"sleep\": 11}"
   ]
  },
  {
   "cell_type": "markdown",
   "metadata": {},
   "source": [
    "## 数据类型\n",
    "\n",
    "字符串 str\n",
    "数字\n",
    "    整数         int\n",
    "    浮点数(小数) float\n",
    "    复数         complex\n",
    "    长整数       long\n",
    "列表 list\n",
    "元组 tuple\n",
    "字典 dict\n",
    "集合 set"
   ]
  },
  {
   "cell_type": "markdown",
   "metadata": {},
   "source": [
    "## 循环结构中的控制关键字\n",
    "\n",
    "break\n",
    "\n",
    "    立刻结束循环\n",
    "\n",
    "continue\n",
    "\n",
    "    立刻结束当次循环，进入下一个循环"
   ]
  },
  {
   "cell_type": "markdown",
   "metadata": {},
   "source": [
    "## return VS yield \n",
    "\n",
    "## print VS return"
   ]
  }
 ],
 "metadata": {
  "kernelspec": {
   "display_name": "base",
   "language": "python",
   "name": "python3"
  },
  "language_info": {
   "name": "python",
   "version": "3.11.4"
  },
  "orig_nbformat": 4
 },
 "nbformat": 4,
 "nbformat_minor": 2
}
