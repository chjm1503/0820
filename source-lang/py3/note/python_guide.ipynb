{
 "cells": [
  {
   "cell_type": "markdown",
   "metadata": {},
   "source": [
    "# 快速入门例子\n",
    "\n",
    "> 猜数游戏\n",
    "\n",
    "涉及\n",
    "\n",
    "- 库的导入与使用\n",
    "- 类的定义与使用\n",
    "- 函数定义与使用\n",
    "- if __name__ == \"__main__\" 介绍\n",
    "- 循环控制\n",
    "- 条件分支\n",
    "- 异常捕获\n",
    "- 类的权限控制"
   ]
  },
  {
   "cell_type": "code",
   "execution_count": 1,
   "metadata": {},
   "outputs": [
    {
     "name": "stdout",
     "output_type": "stream",
     "text": [
      "Hello, world!\n",
      "Guess the number!\n",
      "Too small!\n",
      "Too small!\n",
      "Too small!\n",
      "Too big!\n",
      "Too big!\n",
      "Too big!\n",
      "Too small!\n",
      "You win!\n"
     ]
    }
   ],
   "source": [
    "import random\n",
    "\n",
    "class GuessingName:\n",
    "\n",
    "    # def 关键字，创建一个函数\n",
    "    def __init__(self):\n",
    "\n",
    "        # self. 前缀表示该变量属于GuessingName，coder 无法直接获取该变量\n",
    "        # _ 表示该变量是受保护变量，只能由该对象或者继承自该对象的子对象访问\n",
    "        # __ 表示该变量是私有变量，只能由该对象本身访问\n",
    "        self.__secret_number = random.randint(1, 101)\n",
    "\n",
    "    # 受保护对象，只能被继承自该类或者该类本身调用\n",
    "    def _gen_guess_number(self):\n",
    "        guess = input(\"Please input your guess.\")\n",
    "\n",
    "        # 异常使用\n",
    "        try:\n",
    "            guess = int(guess)\n",
    "        except ValueError as _:\n",
    "            return None\n",
    "                \n",
    "        return guess\n",
    "\n",
    "    # 可以被实例化的类对象使用\n",
    "    def run(self):\n",
    "        print(\"Guess the number!\")\n",
    "\n",
    "        guess = 0\n",
    "        while True:\n",
    "            guess = self._gen_guess_number()\n",
    "\n",
    "            # 选择语句\n",
    "            if not guess:\n",
    "                # 循环语句控制关键字\n",
    "                continue\n",
    "            elif guess == self.__secret_number:\n",
    "                print('You win!')\n",
    "                # 循环语句控制关键字\n",
    "                break\n",
    "            elif guess < self.__secret_number:\n",
    "                print('Too small!')\n",
    "            else:\n",
    "                print('Too big!')\n",
    "\n",
    "if __name__ == \"__main__\":\n",
    "\n",
    "    def for_in_example():\n",
    "        '''\n",
    "        循环语句 for ... in ... 使用举例\n",
    "        ''' \n",
    "        for i in \"Hello, world!\": #  ['H', 'e', 'l', 'l', 'o', ',', 'w', 'o', 'r', 'l', 'd', '!']:\n",
    "            print(f'{i}', end='')\n",
    "        print() #  换行\n",
    "    for_in_example()\n",
    "    \n",
    "    GuessingName().run()"
   ]
  },
  {
   "cell_type": "code",
   "execution_count": 2,
   "metadata": {},
   "outputs": [
    {
     "name": "stdout",
     "output_type": "stream",
     "text": [
      "Hello, world!\n"
     ]
    }
   ],
   "source": [
    "# 最简单的python代码示例\n",
    "# 终端打印一句：Hello, World!\n",
    "print('Hello, world!')"
   ]
  },
  {
   "cell_type": "markdown",
   "metadata": {},
   "source": [
    "# Python3 基础\n",
    "\n",
    "## 基础知识\n",
    "\n",
    "- '#'开头表示注释，解释代码\n",
    "- 字符串可以用单引号包裹，也可以用双引号包裹\n",
    "\n",
    "## 基本程序结构\n",
    "\n",
    "条件语句\n",
    "\n",
    "    第一种：满足条件才执行\n",
    "    if {express}:\n",
    "        ...\n",
    "    \n",
    "    第二种：满足条件执行A步骤，不满足条件执行B步骤\n",
    "    if {express}:\n",
    "        ...\n",
    "    else:\n",
    "        ...\n",
    "\n",
    "    第三种：满足条件1执行A步骤，否则满足条件2执行B步骤\n",
    "    if {express}:\n",
    "        ...\n",
    "    elif {express}:\n",
    "        ...\n",
    "    \n",
    "    第四种：满足条件1执行A步骤，否则满足条件2执行B步骤，都不满足执行C步骤\n",
    "    if {express}:\n",
    "        ...\n",
    "    elif {express}:\n",
    "        ...\n",
    "    else:\n",
    "        ..."
   ]
  },
  {
   "cell_type": "code",
   "execution_count": 3,
   "metadata": {},
   "outputs": [
    {
     "name": "stdout",
     "output_type": "stream",
     "text": [
      "way1_if: 条件满足\n",
      "way2_if_else: 条件满足\n",
      "way2_if_else: 不条件满足\n",
      "way3_if_elif: 满足条件1\n",
      "way3_if_elif: 满足条件2\n",
      "way4_if_elif_else: 满足条件1\n",
      "way4_if_elif_else: 满足条件2\n",
      "way4_if_elif_else: 所有条件不满足\n"
     ]
    }
   ],
   "source": [
    "def way1_if(express):\n",
    "    if express:\n",
    "        print('way1_if: 条件满足')\n",
    "\n",
    "def way2_if_else(express):\n",
    "    if express:\n",
    "        print('way2_if_else: 条件满足')\n",
    "    else:\n",
    "        print('way2_if_else: 不条件满足')\n",
    "\n",
    "def way3_if_elif(number):\n",
    "    if number == 1:\n",
    "        print('way3_if_elif: 满足条件1')\n",
    "    elif number == 2:\n",
    "        print('way3_if_elif: 满足条件2')\n",
    "\n",
    "def way4_if_elif_else(number):\n",
    "    if number == 1:\n",
    "        print('way4_if_elif_else: 满足条件1')\n",
    "    elif number == 2:\n",
    "        print('way4_if_elif_else: 满足条件2')\n",
    "    else:\n",
    "        print('way4_if_elif_else: 所有条件不满足')\n",
    "\n",
    "way1_if(True)\n",
    "way1_if(False) # 不打印\n",
    "\n",
    "way2_if_else(True)\n",
    "way2_if_else(False)\n",
    "\n",
    "way3_if_elif(1)\n",
    "way3_if_elif(2)\n",
    "way3_if_elif(3) # 不打印\n",
    "\n",
    "way4_if_elif_else(1)\n",
    "way4_if_elif_else(2)\n",
    "way4_if_elif_else(3)"
   ]
  }
 ],
 "metadata": {
  "kernelspec": {
   "display_name": "Python 3",
   "language": "python",
   "name": "python3"
  },
  "language_info": {
   "codemirror_mode": {
    "name": "ipython",
    "version": 3
   },
   "file_extension": ".py",
   "mimetype": "text/x-python",
   "name": "python",
   "nbconvert_exporter": "python",
   "pygments_lexer": "ipython3",
   "version": "3.11.4"
  },
  "orig_nbformat": 4
 },
 "nbformat": 4,
 "nbformat_minor": 2
}
